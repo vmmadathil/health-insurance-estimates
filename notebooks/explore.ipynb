{
 "metadata": {
  "language_info": {
   "codemirror_mode": {
    "name": "ipython",
    "version": 3
   },
   "file_extension": ".py",
   "mimetype": "text/x-python",
   "name": "python",
   "nbconvert_exporter": "python",
   "pygments_lexer": "ipython3",
   "version": "3.7.7-final"
  },
  "orig_nbformat": 2,
  "kernelspec": {
   "name": "python_defaultSpec_1598312186253",
   "display_name": "Python 3.7.7 64-bit ('hi-estimates': conda)"
  }
 },
 "nbformat": 4,
 "nbformat_minor": 2,
 "cells": [
  {
   "cell_type": "code",
   "execution_count": 8,
   "metadata": {},
   "outputs": [
    {
     "output_type": "execute_result",
     "data": {
      "text/plain": "True"
     },
     "metadata": {},
     "execution_count": 8
    }
   ],
   "source": [
    "import pandas as pd\n",
    "import numpy as np\n",
    "import mysql.connector\n",
    "from pathlib import Path\n",
    "from dotenv import load_dotenv\n",
    "\n",
    "\n",
    "#path to the enviornment file\n",
    "path = '../.env'\n",
    "\n",
    "#env_path = Path('../..') / '.env'\n",
    "load_dotenv(dotenv_path=path)"
   ]
  },
  {
   "cell_type": "code",
   "execution_count": 9,
   "metadata": {
    "tags": []
   },
   "outputs": [
    {
     "output_type": "stream",
     "name": "stdout",
     "text": "could not connect\nmadat None None\n"
    }
   ],
   "source": [
    "#fetching all the credentials\n",
    "username = os.getenv(\"USERNAME\")\n",
    "password = os.getenv(\"PASSWORD\")\n",
    "host = os.getenv(\"HOST\")\n",
    "\n",
    "#attempting to connect to the database\n",
    "try:\n",
    "    #connecting to the database\n",
    "    con = mysql.connector.connect(\n",
    "        host=host,\n",
    "        user=username,\n",
    "        password=password\n",
    "    )\n",
    "    print('successfully connected')\n",
    "except:\n",
    "    print('could not connect')\n",
    "    print(username, password, host)"
   ]
  }
 ]
}