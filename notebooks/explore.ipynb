{
 "metadata": {
  "language_info": {
   "codemirror_mode": {
    "name": "ipython",
    "version": 3
   },
   "file_extension": ".py",
   "mimetype": "text/x-python",
   "name": "python",
   "nbconvert_exporter": "python",
   "pygments_lexer": "ipython3",
   "version": "3.7.7-final"
  },
  "orig_nbformat": 2,
  "kernelspec": {
   "name": "python_defaultSpec_1596753315841",
   "display_name": "Python 3.7.7 64-bit ('hi-estimates': conda)"
  }
 },
 "nbformat": 4,
 "nbformat_minor": 2,
 "cells": [
  {
   "cell_type": "code",
   "execution_count": 1,
   "metadata": {},
   "outputs": [],
   "source": [
    "import pandas as pd\n",
    "import numpy as np\n",
    "import mysql.connector"
   ]
  },
  {
   "cell_type": "code",
   "execution_count": 2,
   "metadata": {
    "tags": []
   },
   "outputs": [
    {
     "output_type": "stream",
     "name": "stdout",
     "text": "successfully connected\n"
    }
   ],
   "source": [
    "username = 'root'\n",
    "password = 'pswd'\n",
    "host='host'\n",
    "\n",
    "\n",
    "try:\n",
    "    #connecting to the database\n",
    "    con = mysql.connector.connect(\n",
    "        host=host,\n",
    "        user=username,\n",
    "        password=password\n",
    "    )\n",
    "    print('successfully connected')\n",
    "except:\n",
    "    print('could not connect')"
   ]
  },
  {
   "cell_type": "code",
   "execution_count": null,
   "metadata": {},
   "outputs": [],
   "source": [
    "#cursor for the db connection\n",
    "cursor = con.cursor()\n",
    "\n",
    "#query\n",
    "query = "
   ]
  },
  {
   "cell_type": "code",
   "execution_count": 3,
   "metadata": {},
   "outputs": [],
   "source": [
    "con.close()"
   ]
  }
 ]
}